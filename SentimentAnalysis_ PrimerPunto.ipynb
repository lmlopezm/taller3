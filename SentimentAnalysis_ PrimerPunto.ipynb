{
 "cells": [
  {
   "cell_type": "markdown",
   "id": "a9f43f21",
   "metadata": {},
   "source": [
    "<font color='orange'><h2 align=\"center\">Taller 3: análisis de redes sociales. - PRIMERA PARTE</h2></font>"
   ]
  },
  {
   "cell_type": "code",
   "execution_count": 1,
   "id": "615c3300",
   "metadata": {},
   "outputs": [
    {
     "name": "stdout",
     "output_type": "stream",
     "text": [
      "Requirement already satisfied: scikit-learn in c:\\users\\toshiba\\anaconda3\\lib\\site-packages (1.0.1)\n",
      "Requirement already satisfied: threadpoolctl>=2.0.0 in c:\\users\\toshiba\\anaconda3\\lib\\site-packages (from scikit-learn) (2.2.0)\n",
      "Requirement already satisfied: numpy>=1.14.6 in c:\\users\\toshiba\\anaconda3\\lib\\site-packages (from scikit-learn) (1.20.3)\n",
      "Requirement already satisfied: joblib>=0.11 in c:\\users\\toshiba\\anaconda3\\lib\\site-packages (from scikit-learn) (1.0.1)\n",
      "Requirement already satisfied: scipy>=1.1.0 in c:\\users\\toshiba\\anaconda3\\lib\\site-packages (from scikit-learn) (1.6.2)\n"
     ]
    }
   ],
   "source": [
    "##Download scikit-learn library. \n",
    "\n",
    "!pip install -U scikit-learn"
   ]
  },
  {
   "cell_type": "markdown",
   "id": "3412fb90",
   "metadata": {},
   "source": [
    "<h4 align=\"left\"> Training a sentiment analysis classifier based on supervised machine learning algorithms. </h4> "
   ]
  },
  {
   "cell_type": "code",
   "execution_count": 2,
   "id": "95dc5704",
   "metadata": {},
   "outputs": [],
   "source": [
    "import string\n",
    "\n",
    "import pandas as pd\n",
    "\n",
    "import nltk\n",
    "from nltk.corpus import stopwords\n",
    "from nltk.tokenize import TweetTokenizer\n",
    "\n",
    "from sklearn.model_selection import train_test_split\n",
    "from sklearn.feature_extraction.text import CountVectorizer, TfidfVectorizer\n",
    "\n",
    "from sklearn.linear_model import LogisticRegression\n",
    "\n",
    "from sklearn.metrics import ConfusionMatrixDisplay, precision_score, recall_score, f1_score"
   ]
  },
  {
   "cell_type": "code",
   "execution_count": 3,
   "id": "f6a2d805",
   "metadata": {},
   "outputs": [],
   "source": [
    "stop_words = set(stopwords.words('spanish'))"
   ]
  },
  {
   "cell_type": "code",
   "execution_count": 4,
   "id": "31b72480",
   "metadata": {},
   "outputs": [],
   "source": [
    "def tokenizer(text):\n",
    "    tt = TweetTokenizer()\n",
    "    return tt.tokenize(text)"
   ]
  },
  {
   "cell_type": "markdown",
   "id": "bb2efd8d",
   "metadata": {},
   "source": [
    "\n",
    "\n",
    "<font color='purple'><h4 align=\"left\"> 1) First training. </h4></font>"
   ]
  },
  {
   "cell_type": "markdown",
   "id": "ec198e21",
   "metadata": {},
   "source": [
    "<h4 align=\"left\"> Loading labeled tweets. </h4> "
   ]
  },
  {
   "cell_type": "code",
   "execution_count": 5,
   "id": "6a08b98a",
   "metadata": {},
   "outputs": [],
   "source": [
    "# Dataset loaded from: https://docs.google.com/spreadsheets/d/1I3qXro6Hy4UiTmC68axmuC3Qqrj_9YEKSzFILizyl3A/edit?usp=sharing\n",
    "tweets_df = pd.read_csv('./data/medellin_tweets.csv', sep = ',')"
   ]
  },
  {
   "cell_type": "code",
   "execution_count": 6,
   "id": "d9c62767",
   "metadata": {},
   "outputs": [
    {
     "data": {
      "text/html": [
       "<div>\n",
       "<style scoped>\n",
       "    .dataframe tbody tr th:only-of-type {\n",
       "        vertical-align: middle;\n",
       "    }\n",
       "\n",
       "    .dataframe tbody tr th {\n",
       "        vertical-align: top;\n",
       "    }\n",
       "\n",
       "    .dataframe thead th {\n",
       "        text-align: right;\n",
       "    }\n",
       "</style>\n",
       "<table border=\"1\" class=\"dataframe\">\n",
       "  <thead>\n",
       "    <tr style=\"text-align: right;\">\n",
       "      <th></th>\n",
       "      <th>full_text</th>\n",
       "      <th>sentiment</th>\n",
       "    </tr>\n",
       "  </thead>\n",
       "  <tbody>\n",
       "    <tr>\n",
       "      <th>0</th>\n",
       "      <td>@hugouribev: @isamg6 @MOinternationa @petrogus...</td>\n",
       "      <td>0.0</td>\n",
       "    </tr>\n",
       "    <tr>\n",
       "      <th>1</th>\n",
       "      <td>@maridelas18: Fueraaa, Petro de Medellín</td>\n",
       "      <td>0.0</td>\n",
       "    </tr>\n",
       "    <tr>\n",
       "      <th>2</th>\n",
       "      <td>@MunozEnith: Medellín se lució hoy. El repudio...</td>\n",
       "      <td>0.0</td>\n",
       "    </tr>\n",
       "    <tr>\n",
       "      <th>3</th>\n",
       "      <td>@isamg6: La historia contará que en Medellín s...</td>\n",
       "      <td>0.0</td>\n",
       "    </tr>\n",
       "    <tr>\n",
       "      <th>4</th>\n",
       "      <td>@funurbiano: Los del asalto a la fundidora de ...</td>\n",
       "      <td>0.0</td>\n",
       "    </tr>\n",
       "  </tbody>\n",
       "</table>\n",
       "</div>"
      ],
      "text/plain": [
       "                                           full_text  sentiment\n",
       "0  @hugouribev: @isamg6 @MOinternationa @petrogus...        0.0\n",
       "1           @maridelas18: Fueraaa, Petro de Medellín        0.0\n",
       "2  @MunozEnith: Medellín se lució hoy. El repudio...        0.0\n",
       "3  @isamg6: La historia contará que en Medellín s...        0.0\n",
       "4  @funurbiano: Los del asalto a la fundidora de ...        0.0"
      ]
     },
     "execution_count": 6,
     "metadata": {},
     "output_type": "execute_result"
    }
   ],
   "source": [
    "tweets_df.head()"
   ]
  },
  {
   "cell_type": "code",
   "execution_count": 7,
   "id": "f1f32928",
   "metadata": {},
   "outputs": [
    {
     "data": {
      "text/plain": [
       "NaN    4838\n",
       "0.0     637\n",
       "1.0     561\n",
       "Name: sentiment, dtype: int64"
      ]
     },
     "execution_count": 7,
     "metadata": {},
     "output_type": "execute_result"
    }
   ],
   "source": [
    "tweets_df['sentiment'].value_counts(dropna = False)"
   ]
  },
  {
   "cell_type": "code",
   "execution_count": 8,
   "id": "70e8a0b7",
   "metadata": {},
   "outputs": [
    {
     "data": {
      "text/plain": [
       "NaN    0.801524\n",
       "0.0    0.105533\n",
       "1.0    0.092942\n",
       "Name: sentiment, dtype: float64"
      ]
     },
     "execution_count": 8,
     "metadata": {},
     "output_type": "execute_result"
    }
   ],
   "source": [
    "tweets_df['sentiment'].value_counts(dropna = False, normalize = True)"
   ]
  },
  {
   "cell_type": "markdown",
   "id": "f55cb6d2",
   "metadata": {},
   "source": [
    "<h4 align=\"left\"> Leaving out unlabeled texts, this data is not useful for training or validating a supervised model.</h4> "
   ]
  },
  {
   "cell_type": "code",
   "execution_count": 9,
   "id": "dde79ba5",
   "metadata": {},
   "outputs": [],
   "source": [
    "tweets_labeled_df = tweets_df.loc[tweets_df['sentiment'].notnull()]"
   ]
  },
  {
   "cell_type": "code",
   "execution_count": 10,
   "id": "f7130682",
   "metadata": {},
   "outputs": [
    {
     "data": {
      "text/plain": [
       "(1198, 2)"
      ]
     },
     "execution_count": 10,
     "metadata": {},
     "output_type": "execute_result"
    }
   ],
   "source": [
    "tweets_labeled_df.shape"
   ]
  },
  {
   "cell_type": "code",
   "execution_count": 11,
   "id": "96b71529",
   "metadata": {},
   "outputs": [],
   "source": [
    "tweets_nolabeled_df = tweets_df.loc[tweets_df['sentiment'].isnull()]"
   ]
  },
  {
   "cell_type": "code",
   "execution_count": 12,
   "id": "b56c4202",
   "metadata": {},
   "outputs": [
    {
     "data": {
      "text/plain": [
       "(4838, 2)"
      ]
     },
     "execution_count": 12,
     "metadata": {},
     "output_type": "execute_result"
    }
   ],
   "source": [
    "tweets_nolabeled_df.shape"
   ]
  },
  {
   "cell_type": "markdown",
   "id": "771ce1e4",
   "metadata": {},
   "source": [
    "<h4 align=\"left\"> Splitting train and test datasets. </h4> "
   ]
  },
  {
   "cell_type": "code",
   "execution_count": 13,
   "id": "c63747c2",
   "metadata": {},
   "outputs": [],
   "source": [
    "X_train, X_test, y_train, y_test = train_test_split(tweets_labeled_df['full_text'], tweets_labeled_df['sentiment'], test_size = 0.2, stratify = tweets_labeled_df['sentiment'], random_state = 1)"
   ]
  },
  {
   "cell_type": "code",
   "execution_count": 14,
   "id": "7f53b0ba",
   "metadata": {},
   "outputs": [
    {
     "data": {
      "text/plain": [
       "(958,)"
      ]
     },
     "execution_count": 14,
     "metadata": {},
     "output_type": "execute_result"
    }
   ],
   "source": [
    "X_train.shape"
   ]
  },
  {
   "cell_type": "code",
   "execution_count": 15,
   "id": "188c2641",
   "metadata": {},
   "outputs": [
    {
     "data": {
      "text/plain": [
       "0.0    0.531315\n",
       "1.0    0.468685\n",
       "Name: sentiment, dtype: float64"
      ]
     },
     "execution_count": 15,
     "metadata": {},
     "output_type": "execute_result"
    }
   ],
   "source": [
    "pd.Series(y_train).value_counts(normalize = True)"
   ]
  },
  {
   "cell_type": "code",
   "execution_count": 16,
   "id": "c39ce2c3",
   "metadata": {},
   "outputs": [
    {
     "data": {
      "text/plain": [
       "(240,)"
      ]
     },
     "execution_count": 16,
     "metadata": {},
     "output_type": "execute_result"
    }
   ],
   "source": [
    "X_test.shape"
   ]
  },
  {
   "cell_type": "code",
   "execution_count": 17,
   "id": "344e9085",
   "metadata": {},
   "outputs": [
    {
     "data": {
      "text/plain": [
       "0.0    0.533333\n",
       "1.0    0.466667\n",
       "Name: sentiment, dtype: float64"
      ]
     },
     "execution_count": 17,
     "metadata": {},
     "output_type": "execute_result"
    }
   ],
   "source": [
    "pd.Series(y_test).value_counts(normalize = True)"
   ]
  },
  {
   "cell_type": "markdown",
   "id": "189dbbf3",
   "metadata": {},
   "source": [
    "<h4 align=\"left\"> Vectorizing texts. </h4> "
   ]
  },
  {
   "cell_type": "code",
   "execution_count": 18,
   "id": "a3884930",
   "metadata": {},
   "outputs": [],
   "source": [
    "bow = CountVectorizer(tokenizer = tokenizer, stop_words = stop_words)"
   ]
  },
  {
   "cell_type": "code",
   "execution_count": 19,
   "id": "d3046474",
   "metadata": {},
   "outputs": [],
   "source": [
    "tfidf = TfidfVectorizer(tokenizer = tokenizer, stop_words = stop_words)"
   ]
  },
  {
   "cell_type": "code",
   "execution_count": 20,
   "id": "906c01ed",
   "metadata": {},
   "outputs": [],
   "source": [
    "X_bow = bow.fit_transform(X_train)"
   ]
  },
  {
   "cell_type": "code",
   "execution_count": 21,
   "id": "a8a91b53",
   "metadata": {},
   "outputs": [],
   "source": [
    "X_tfidf = tfidf.fit_transform(X_train)"
   ]
  },
  {
   "cell_type": "markdown",
   "id": "56b2eb21",
   "metadata": {},
   "source": [
    "<h4 align=\"left\"> Training and evaluating a model using BOW. </h4> "
   ]
  },
  {
   "cell_type": "markdown",
   "id": "5a5ff339",
   "metadata": {},
   "source": [
    "<h4>Bag of Words</h4>\n",
    "                <img src=\"./imgs/bow.png\" width=\"500\" height=\"40\" align=\"left\" />"
   ]
  },
  {
   "cell_type": "code",
   "execution_count": 22,
   "id": "0c85dce1",
   "metadata": {},
   "outputs": [],
   "source": [
    "logistic_model = LogisticRegression(random_state = 2)"
   ]
  },
  {
   "cell_type": "code",
   "execution_count": 23,
   "id": "28a94ff0",
   "metadata": {},
   "outputs": [
    {
     "data": {
      "text/plain": [
       "LogisticRegression(random_state=2)"
      ]
     },
     "execution_count": 23,
     "metadata": {},
     "output_type": "execute_result"
    }
   ],
   "source": [
    "logistic_model.fit(X_bow, y_train)"
   ]
  },
  {
   "cell_type": "code",
   "execution_count": 24,
   "id": "5599c53f",
   "metadata": {},
   "outputs": [],
   "source": [
    "y_train_bow_predict = logistic_model.predict(X_bow)\n",
    "y_test_bow_predict = logistic_model.predict(bow.transform(X_test))"
   ]
  },
  {
   "cell_type": "code",
   "execution_count": 25,
   "id": "4435e22e",
   "metadata": {},
   "outputs": [
    {
     "data": {
      "text/plain": [
       "<sklearn.metrics._plot.confusion_matrix.ConfusionMatrixDisplay at 0x2115449cbb0>"
      ]
     },
     "execution_count": 25,
     "metadata": {},
     "output_type": "execute_result"
    },
    {
     "data": {
      "image/png": "[encoded data removed]",
      "text/plain": [
       "<Figure size 432x288 with 2 Axes>"
      ]
     },
     "metadata": {
      "needs_background": "light"
     },
     "output_type": "display_data"
    }
   ],
   "source": [
    "ConfusionMatrixDisplay.from_predictions(y_train, y_train_bow_predict)"
   ]
  },
  {
   "cell_type": "code",
   "execution_count": 26,
   "id": "a64a2080",
   "metadata": {},
   "outputs": [
    {
     "data": {
      "text/plain": [
       "<sklearn.metrics._plot.confusion_matrix.ConfusionMatrixDisplay at 0x211556c7820>"
      ]
     },
     "execution_count": 26,
     "metadata": {},
     "output_type": "execute_result"
    },
    {
     "data": {
      "image/png": "[encoded data removed]",
      "text/plain": [
       "<Figure size 432x288 with 2 Axes>"
      ]
     },
     "metadata": {
      "needs_background": "light"
     },
     "output_type": "display_data"
    }
   ],
   "source": [
    "ConfusionMatrixDisplay.from_predictions(y_test, y_test_bow_predict)"
   ]
  },
  {
   "cell_type": "code",
   "execution_count": 27,
   "id": "f3744805",
   "metadata": {},
   "outputs": [
    {
     "name": "stdout",
     "output_type": "stream",
     "text": [
      "Precision: 0.6842105263157895\n",
      "Recall: 0.6964285714285714\n",
      "F1: 0.6902654867256636\n"
     ]
    }
   ],
   "source": [
    "print('Precision:', precision_score(y_test, y_test_bow_predict))\n",
    "print('Recall:', recall_score(y_test, y_test_bow_predict))\n",
    "print('F1:', f1_score(y_test, y_test_bow_predict))"
   ]
  },
  {
   "cell_type": "markdown",
   "id": "1d04a011",
   "metadata": {},
   "source": [
    "<h4 align=\"left\"> Training and evaluating a model using TF-IDF. </h4> "
   ]
  },
  {
   "cell_type": "markdown",
   "id": "45f0e941",
   "metadata": {},
   "source": [
    "<h4>TF-IDF</h4>\n",
    "                <img src=\"./imgs/tf-idf.png\" width=\"400\" height=\"40\" align=\"left\" />"
   ]
  },
  {
   "cell_type": "code",
   "execution_count": 28,
   "id": "e13bb487",
   "metadata": {},
   "outputs": [],
   "source": [
    "logistic_model = LogisticRegression(random_state = 2)"
   ]
  },
  {
   "cell_type": "code",
   "execution_count": 29,
   "id": "6685dbf6",
   "metadata": {},
   "outputs": [
    {
     "data": {
      "text/plain": [
       "LogisticRegression(random_state=2)"
      ]
     },
     "execution_count": 29,
     "metadata": {},
     "output_type": "execute_result"
    }
   ],
   "source": [
    "logistic_model.fit(X_tfidf, y_train)"
   ]
  },
  {
   "cell_type": "code",
   "execution_count": 30,
   "id": "e6bd45aa",
   "metadata": {},
   "outputs": [],
   "source": [
    "y_train_tfidf_predict = logistic_model.predict(X_tfidf)\n",
    "y_test_tfidf_predict = logistic_model.predict(bow.transform(X_test))"
   ]
  },
  {
   "cell_type": "code",
   "execution_count": 31,
   "id": "63a69855",
   "metadata": {},
   "outputs": [
    {
     "data": {
      "text/plain": [
       "<sklearn.metrics._plot.confusion_matrix.ConfusionMatrixDisplay at 0x211558d4eb0>"
      ]
     },
     "execution_count": 31,
     "metadata": {},
     "output_type": "execute_result"
    },
    {
     "data": {
      "image/png": "[encoded data removed]",
      "text/plain": [
       "<Figure size 432x288 with 2 Axes>"
      ]
     },
     "metadata": {
      "needs_background": "light"
     },
     "output_type": "display_data"
    }
   ],
   "source": [
    "ConfusionMatrixDisplay.from_predictions(y_train, y_train_tfidf_predict)"
   ]
  },
  {
   "cell_type": "code",
   "execution_count": 32,
   "id": "e230bbf5",
   "metadata": {},
   "outputs": [
    {
     "data": {
      "text/plain": [
       "<sklearn.metrics._plot.confusion_matrix.ConfusionMatrixDisplay at 0x211558fe460>"
      ]
     },
     "execution_count": 32,
     "metadata": {},
     "output_type": "execute_result"
    },
    {
     "data": {
      "image/png": "[encoded data removed]",
      "text/plain": [
       "<Figure size 432x288 with 2 Axes>"
      ]
     },
     "metadata": {
      "needs_background": "light"
     },
     "output_type": "display_data"
    }
   ],
   "source": [
    "ConfusionMatrixDisplay.from_predictions(y_test, y_test_tfidf_predict)"
   ]
  },
  {
   "cell_type": "code",
   "execution_count": 33,
   "id": "a5eb4d94",
   "metadata": {},
   "outputs": [
    {
     "name": "stdout",
     "output_type": "stream",
     "text": [
      "Precision: 0.82\n",
      "Recall: 0.36607142857142855\n",
      "F1: 0.5061728395061729\n"
     ]
    }
   ],
   "source": [
    "print('Precision:', precision_score(y_test, y_test_tfidf_predict))\n",
    "print('Recall:', recall_score(y_test, y_test_tfidf_predict))\n",
    "print('F1:', f1_score(y_test, y_test_tfidf_predict))"
   ]
  },
  {
   "cell_type": "markdown",
   "id": "31ee9b3a",
   "metadata": {},
   "source": [
    "<font color='purple'><h4 align=\"left\"> 2) Second training with more data. </h4></font>"
   ]
  },
  {
   "cell_type": "markdown",
   "id": "fdaf3421",
   "metadata": {},
   "source": [
    "<h4 align=\"left\"> Loading labeled tweets. </h4> "
   ]
  },
  {
   "cell_type": "code",
   "execution_count": 34,
   "id": "984aba26",
   "metadata": {},
   "outputs": [],
   "source": [
    "# Dataset loaded from: https://docs.google.com/spreadsheets/d/1I3qXro6Hy4UiTmC68axmuC3Qqrj_9YEKSzFILizyl3A/edit?usp=sharing\n",
    "tweets_df2 = pd.read_csv('./data/medellin_tweets3.csv', sep = ',')"
   ]
  },
  {
   "cell_type": "code",
   "execution_count": 35,
   "id": "d7acea2f",
   "metadata": {},
   "outputs": [
    {
     "data": {
      "text/html": [
       "<div>\n",
       "<style scoped>\n",
       "    .dataframe tbody tr th:only-of-type {\n",
       "        vertical-align: middle;\n",
       "    }\n",
       "\n",
       "    .dataframe tbody tr th {\n",
       "        vertical-align: top;\n",
       "    }\n",
       "\n",
       "    .dataframe thead th {\n",
       "        text-align: right;\n",
       "    }\n",
       "</style>\n",
       "<table border=\"1\" class=\"dataframe\">\n",
       "  <thead>\n",
       "    <tr style=\"text-align: right;\">\n",
       "      <th></th>\n",
       "      <th>full_text</th>\n",
       "      <th>sentiment</th>\n",
       "    </tr>\n",
       "  </thead>\n",
       "  <tbody>\n",
       "    <tr>\n",
       "      <th>0</th>\n",
       "      <td>@hugouribev: @isamg6 @MOinternationa @petrogus...</td>\n",
       "      <td>0.0</td>\n",
       "    </tr>\n",
       "    <tr>\n",
       "      <th>1</th>\n",
       "      <td>@maridelas18: Fueraaa, Petro de Medellín</td>\n",
       "      <td>0.0</td>\n",
       "    </tr>\n",
       "    <tr>\n",
       "      <th>2</th>\n",
       "      <td>@MunozEnith: Medellín se lució hoy. El repudio...</td>\n",
       "      <td>0.0</td>\n",
       "    </tr>\n",
       "    <tr>\n",
       "      <th>3</th>\n",
       "      <td>@isamg6: La historia contará que en Medellín s...</td>\n",
       "      <td>0.0</td>\n",
       "    </tr>\n",
       "    <tr>\n",
       "      <th>4</th>\n",
       "      <td>@funurbiano: Los del asalto a la fundidora de ...</td>\n",
       "      <td>0.0</td>\n",
       "    </tr>\n",
       "  </tbody>\n",
       "</table>\n",
       "</div>"
      ],
      "text/plain": [
       "                                           full_text  sentiment\n",
       "0  @hugouribev: @isamg6 @MOinternationa @petrogus...        0.0\n",
       "1           @maridelas18: Fueraaa, Petro de Medellín        0.0\n",
       "2  @MunozEnith: Medellín se lució hoy. El repudio...        0.0\n",
       "3  @isamg6: La historia contará que en Medellín s...        0.0\n",
       "4  @funurbiano: Los del asalto a la fundidora de ...        0.0"
      ]
     },
     "execution_count": 35,
     "metadata": {},
     "output_type": "execute_result"
    }
   ],
   "source": [
    "tweets_df2.head()"
   ]
  },
  {
   "cell_type": "code",
   "execution_count": 36,
   "id": "d2022055",
   "metadata": {},
   "outputs": [
    {
     "data": {
      "text/plain": [
       "NaN    4738\n",
       "0.0     693\n",
       "1.0     605\n",
       "Name: sentiment, dtype: int64"
      ]
     },
     "execution_count": 36,
     "metadata": {},
     "output_type": "execute_result"
    }
   ],
   "source": [
    "tweets_df2['sentiment'].value_counts(dropna = False)"
   ]
  },
  {
   "cell_type": "code",
   "execution_count": 37,
   "id": "75e5ffed",
   "metadata": {},
   "outputs": [
    {
     "data": {
      "text/plain": [
       "NaN    0.784957\n",
       "0.0    0.114811\n",
       "1.0    0.100232\n",
       "Name: sentiment, dtype: float64"
      ]
     },
     "execution_count": 37,
     "metadata": {},
     "output_type": "execute_result"
    }
   ],
   "source": [
    "tweets_df2['sentiment'].value_counts(dropna = False, normalize = True)"
   ]
  },
  {
   "cell_type": "markdown",
   "id": "4ec50b98",
   "metadata": {},
   "source": [
    "<h4 align=\"left\"> Leaving out unlabeled texts, this data is not useful for training or validating a supervised model.</h4> "
   ]
  },
  {
   "cell_type": "code",
   "execution_count": 38,
   "id": "cfb4561f",
   "metadata": {},
   "outputs": [],
   "source": [
    "tweets_labeled_df2 = tweets_df2.loc[tweets_df2['sentiment'].notnull()]"
   ]
  },
  {
   "cell_type": "code",
   "execution_count": 39,
   "id": "6a68c593",
   "metadata": {},
   "outputs": [
    {
     "data": {
      "text/plain": [
       "(1298, 2)"
      ]
     },
     "execution_count": 39,
     "metadata": {},
     "output_type": "execute_result"
    }
   ],
   "source": [
    "tweets_labeled_df2.shape"
   ]
  },
  {
   "cell_type": "code",
   "execution_count": 40,
   "id": "f12340bc",
   "metadata": {},
   "outputs": [],
   "source": [
    "tweets_nolabeled_df2 = tweets_df2.loc[tweets_df2['sentiment'].isnull()]"
   ]
  },
  {
   "cell_type": "code",
   "execution_count": 41,
   "id": "4e76af84",
   "metadata": {},
   "outputs": [
    {
     "data": {
      "text/plain": [
       "(4738, 2)"
      ]
     },
     "execution_count": 41,
     "metadata": {},
     "output_type": "execute_result"
    }
   ],
   "source": [
    "tweets_nolabeled_df2.shape"
   ]
  },
  {
   "cell_type": "markdown",
   "id": "1f150d92",
   "metadata": {},
   "source": [
    "<h4 align=\"left\"> Splitting train and test datasets. </h4> "
   ]
  },
  {
   "cell_type": "code",
   "execution_count": 42,
   "id": "cebf2812",
   "metadata": {},
   "outputs": [],
   "source": [
    "X_train2, X_test2, y_train2, y_test2 = train_test_split(tweets_labeled_df2['full_text'], tweets_labeled_df2['sentiment'], test_size = 0.2, stratify = tweets_labeled_df2['sentiment'], random_state = 1)"
   ]
  },
  {
   "cell_type": "code",
   "execution_count": 43,
   "id": "673bd247",
   "metadata": {},
   "outputs": [
    {
     "data": {
      "text/plain": [
       "(1038,)"
      ]
     },
     "execution_count": 43,
     "metadata": {},
     "output_type": "execute_result"
    }
   ],
   "source": [
    "X_train2.shape"
   ]
  },
  {
   "cell_type": "code",
   "execution_count": 44,
   "id": "99f78d8b",
   "metadata": {},
   "outputs": [
    {
     "data": {
      "text/plain": [
       "0.0    0.533719\n",
       "1.0    0.466281\n",
       "Name: sentiment, dtype: float64"
      ]
     },
     "execution_count": 44,
     "metadata": {},
     "output_type": "execute_result"
    }
   ],
   "source": [
    "pd.Series(y_train2).value_counts(normalize = True)"
   ]
  },
  {
   "cell_type": "code",
   "execution_count": 45,
   "id": "103dda78",
   "metadata": {},
   "outputs": [
    {
     "data": {
      "text/plain": [
       "(260,)"
      ]
     },
     "execution_count": 45,
     "metadata": {},
     "output_type": "execute_result"
    }
   ],
   "source": [
    "X_test2.shape"
   ]
  },
  {
   "cell_type": "code",
   "execution_count": 46,
   "id": "e4e371ea",
   "metadata": {},
   "outputs": [
    {
     "data": {
      "text/plain": [
       "0.0    0.534615\n",
       "1.0    0.465385\n",
       "Name: sentiment, dtype: float64"
      ]
     },
     "execution_count": 46,
     "metadata": {},
     "output_type": "execute_result"
    }
   ],
   "source": [
    "pd.Series(y_test2).value_counts(normalize = True)"
   ]
  },
  {
   "cell_type": "markdown",
   "id": "af214915",
   "metadata": {},
   "source": [
    "<h4 align=\"left\"> Vectorizing texts. </h4> "
   ]
  },
  {
   "cell_type": "code",
   "execution_count": 47,
   "id": "0254e1aa",
   "metadata": {},
   "outputs": [],
   "source": [
    "bow2 = CountVectorizer(tokenizer = tokenizer, stop_words = stop_words)"
   ]
  },
  {
   "cell_type": "code",
   "execution_count": 48,
   "id": "4c6631fa",
   "metadata": {},
   "outputs": [],
   "source": [
    "tfidf2 = TfidfVectorizer(tokenizer = tokenizer, stop_words = stop_words)"
   ]
  },
  {
   "cell_type": "code",
   "execution_count": 49,
   "id": "0c1fc6b2",
   "metadata": {},
   "outputs": [],
   "source": [
    "X_bow2 = bow.fit_transform(X_train2)"
   ]
  },
  {
   "cell_type": "code",
   "execution_count": 50,
   "id": "34143207",
   "metadata": {},
   "outputs": [],
   "source": [
    "X_tfidf2 = tfidf.fit_transform(X_train2)"
   ]
  },
  {
   "cell_type": "markdown",
   "id": "65428ec4",
   "metadata": {},
   "source": [
    "<h4 align=\"left\"> Training and evaluating a model using BOW. </h4> "
   ]
  },
  {
   "cell_type": "markdown",
   "id": "22f53c7d",
   "metadata": {},
   "source": [
    "<h4>Bag of Words</h4>\n",
    "                <img src=\"./imgs/bow.png\" width=\"500\" height=\"40\" align=\"left\" />"
   ]
  },
  {
   "cell_type": "code",
   "execution_count": 51,
   "id": "240785a3",
   "metadata": {},
   "outputs": [],
   "source": [
    "logistic_model = LogisticRegression(random_state = 2)"
   ]
  },
  {
   "cell_type": "code",
   "execution_count": 52,
   "id": "3986bc50",
   "metadata": {},
   "outputs": [
    {
     "data": {
      "text/plain": [
       "LogisticRegression(random_state=2)"
      ]
     },
     "execution_count": 52,
     "metadata": {},
     "output_type": "execute_result"
    }
   ],
   "source": [
    "logistic_model.fit(X_bow2, y_train2)"
   ]
  },
  {
   "cell_type": "code",
   "execution_count": 53,
   "id": "c106e11d",
   "metadata": {},
   "outputs": [],
   "source": [
    "y_train_bow_predict2 = logistic_model.predict(X_bow2)\n",
    "y_test_bow_predict2 = logistic_model.predict(bow.transform(X_test2))"
   ]
  },
  {
   "cell_type": "code",
   "execution_count": 54,
   "id": "2bd44ccb",
   "metadata": {},
   "outputs": [
    {
     "data": {
      "text/plain": [
       "<sklearn.metrics._plot.confusion_matrix.ConfusionMatrixDisplay at 0x21155bcea30>"
      ]
     },
     "execution_count": 54,
     "metadata": {},
     "output_type": "execute_result"
    },
    {
     "data": {
      "image/png": "[encoded data removed]",
      "text/plain": [
       "<Figure size 432x288 with 2 Axes>"
      ]
     },
     "metadata": {
      "needs_background": "light"
     },
     "output_type": "display_data"
    }
   ],
   "source": [
    "ConfusionMatrixDisplay.from_predictions(y_train2, y_train_bow_predict2)"
   ]
  },
  {
   "cell_type": "code",
   "execution_count": 55,
   "id": "39da275b",
   "metadata": {},
   "outputs": [
    {
     "data": {
      "text/plain": [
       "<sklearn.metrics._plot.confusion_matrix.ConfusionMatrixDisplay at 0x2115435c8e0>"
      ]
     },
     "execution_count": 55,
     "metadata": {},
     "output_type": "execute_result"
    },
    {
     "data": {
      "image/png": "[encoded data removed]",
      "text/plain": [
       "<Figure size 432x288 with 2 Axes>"
      ]
     },
     "metadata": {
      "needs_background": "light"
     },
     "output_type": "display_data"
    }
   ],
   "source": [
    "ConfusionMatrixDisplay.from_predictions(y_test2, y_test_bow_predict2)"
   ]
  },
  {
   "cell_type": "code",
   "execution_count": 56,
   "id": "cd475d54",
   "metadata": {},
   "outputs": [
    {
     "name": "stdout",
     "output_type": "stream",
     "text": [
      "Precision: 0.6548672566371682\n",
      "Recall: 0.6115702479338843\n",
      "F1: 0.6324786324786326\n"
     ]
    }
   ],
   "source": [
    "print('Precision:', precision_score(y_test2, y_test_bow_predict2))\n",
    "print('Recall:', recall_score(y_test2, y_test_bow_predict2))\n",
    "print('F1:', f1_score(y_test2, y_test_bow_predict2))"
   ]
  },
  {
   "cell_type": "markdown",
   "id": "6c9d63aa",
   "metadata": {},
   "source": [
    "<h4 align=\"left\"> Training and evaluating a model using TF-IDF. </h4> "
   ]
  },
  {
   "cell_type": "markdown",
   "id": "1bdb1855",
   "metadata": {},
   "source": [
    "<h4>TF-IDF</h4>\n",
    "                <img src=\"./imgs/tf-idf.png\" width=\"400\" height=\"40\" align=\"left\" />"
   ]
  },
  {
   "cell_type": "code",
   "execution_count": 57,
   "id": "836bee7c",
   "metadata": {},
   "outputs": [],
   "source": [
    "logistic_model = LogisticRegression(random_state = 2)"
   ]
  },
  {
   "cell_type": "code",
   "execution_count": 58,
   "id": "eb788913",
   "metadata": {},
   "outputs": [
    {
     "data": {
      "text/plain": [
       "LogisticRegression(random_state=2)"
      ]
     },
     "execution_count": 58,
     "metadata": {},
     "output_type": "execute_result"
    }
   ],
   "source": [
    "logistic_model.fit(X_tfidf2, y_train2)"
   ]
  },
  {
   "cell_type": "code",
   "execution_count": 59,
   "id": "6da197b0",
   "metadata": {},
   "outputs": [],
   "source": [
    "y_train_tfidf_predict2 = logistic_model.predict(X_tfidf2)\n",
    "y_test_tfidf_predict2 = logistic_model.predict(bow.transform(X_test2))"
   ]
  },
  {
   "cell_type": "code",
   "execution_count": 60,
   "id": "3905cdc9",
   "metadata": {},
   "outputs": [
    {
     "data": {
      "text/plain": [
       "<sklearn.metrics._plot.confusion_matrix.ConfusionMatrixDisplay at 0x21156ccbaf0>"
      ]
     },
     "execution_count": 60,
     "metadata": {},
     "output_type": "execute_result"
    },
    {
     "data": {
      "image/png": "[encoded data removed]",
      "text/plain": [
       "<Figure size 432x288 with 2 Axes>"
      ]
     },
     "metadata": {
      "needs_background": "light"
     },
     "output_type": "display_data"
    }
   ],
   "source": [
    "ConfusionMatrixDisplay.from_predictions(y_train2, y_train_tfidf_predict2)"
   ]
  },
  {
   "cell_type": "code",
   "execution_count": 61,
   "id": "246090b7",
   "metadata": {},
   "outputs": [
    {
     "data": {
      "text/plain": [
       "<sklearn.metrics._plot.confusion_matrix.ConfusionMatrixDisplay at 0x21156d21460>"
      ]
     },
     "execution_count": 61,
     "metadata": {},
     "output_type": "execute_result"
    },
    {
     "data": {
      "image/png": "[encoded data removed]",
      "text/plain": [
       "<Figure size 432x288 with 2 Axes>"
      ]
     },
     "metadata": {
      "needs_background": "light"
     },
     "output_type": "display_data"
    }
   ],
   "source": [
    "ConfusionMatrixDisplay.from_predictions(y_test2, y_test_tfidf_predict2)"
   ]
  },
  {
   "cell_type": "code",
   "execution_count": 62,
   "id": "ebeb3b7f",
   "metadata": {},
   "outputs": [
    {
     "name": "stdout",
     "output_type": "stream",
     "text": [
      "Precision: 0.7692307692307693\n",
      "Recall: 0.24793388429752067\n",
      "F1: 0.37500000000000006\n"
     ]
    }
   ],
   "source": [
    "print('Precision:', precision_score(y_test2, y_test_tfidf_predict2))\n",
    "print('Recall:', recall_score(y_test2, y_test_tfidf_predict2))\n",
    "print('F1:', f1_score(y_test2, y_test_tfidf_predict2))"
   ]
  },
  {
   "cell_type": "markdown",
   "id": "a6686e7f",
   "metadata": {},
   "source": [
    "<font color='purple'><h4 align=\"left\"> 3) Third training with more data. </h4></font>"
   ]
  },
  {
   "cell_type": "markdown",
   "id": "41b70846",
   "metadata": {},
   "source": [
    "<h4 align=\"left\"> Loading labeled tweets. </h4> "
   ]
  },
  {
   "cell_type": "code",
   "execution_count": 63,
   "id": "aae74840",
   "metadata": {},
   "outputs": [],
   "source": [
    "# Dataset loaded from: https://docs.google.com/spreadsheets/d/1I3qXro6Hy4UiTmC68axmuC3Qqrj_9YEKSzFILizyl3A/edit?usp=sharing\n",
    "tweets_df3 = pd.read_csv('./data/medellin_tweets4.csv', sep = ',')"
   ]
  },
  {
   "cell_type": "code",
   "execution_count": 64,
   "id": "fb15192f",
   "metadata": {},
   "outputs": [
    {
     "data": {
      "text/html": [
       "<div>\n",
       "<style scoped>\n",
       "    .dataframe tbody tr th:only-of-type {\n",
       "        vertical-align: middle;\n",
       "    }\n",
       "\n",
       "    .dataframe tbody tr th {\n",
       "        vertical-align: top;\n",
       "    }\n",
       "\n",
       "    .dataframe thead th {\n",
       "        text-align: right;\n",
       "    }\n",
       "</style>\n",
       "<table border=\"1\" class=\"dataframe\">\n",
       "  <thead>\n",
       "    <tr style=\"text-align: right;\">\n",
       "      <th></th>\n",
       "      <th>full_text</th>\n",
       "      <th>sentiment</th>\n",
       "    </tr>\n",
       "  </thead>\n",
       "  <tbody>\n",
       "    <tr>\n",
       "      <th>0</th>\n",
       "      <td>@hugouribev: @isamg6 @MOinternationa @petrogus...</td>\n",
       "      <td>0.0</td>\n",
       "    </tr>\n",
       "    <tr>\n",
       "      <th>1</th>\n",
       "      <td>@maridelas18: Fueraaa, Petro de Medellín</td>\n",
       "      <td>0.0</td>\n",
       "    </tr>\n",
       "    <tr>\n",
       "      <th>2</th>\n",
       "      <td>@MunozEnith: Medellín se lució hoy. El repudio...</td>\n",
       "      <td>0.0</td>\n",
       "    </tr>\n",
       "    <tr>\n",
       "      <th>3</th>\n",
       "      <td>@isamg6: La historia contará que en Medellín s...</td>\n",
       "      <td>0.0</td>\n",
       "    </tr>\n",
       "    <tr>\n",
       "      <th>4</th>\n",
       "      <td>@funurbiano: Los del asalto a la fundidora de ...</td>\n",
       "      <td>0.0</td>\n",
       "    </tr>\n",
       "  </tbody>\n",
       "</table>\n",
       "</div>"
      ],
      "text/plain": [
       "                                           full_text  sentiment\n",
       "0  @hugouribev: @isamg6 @MOinternationa @petrogus...        0.0\n",
       "1           @maridelas18: Fueraaa, Petro de Medellín        0.0\n",
       "2  @MunozEnith: Medellín se lució hoy. El repudio...        0.0\n",
       "3  @isamg6: La historia contará que en Medellín s...        0.0\n",
       "4  @funurbiano: Los del asalto a la fundidora de ...        0.0"
      ]
     },
     "execution_count": 64,
     "metadata": {},
     "output_type": "execute_result"
    }
   ],
   "source": [
    "tweets_df3.head()"
   ]
  },
  {
   "cell_type": "code",
   "execution_count": 65,
   "id": "4b904f0b",
   "metadata": {},
   "outputs": [
    {
     "data": {
      "text/plain": [
       "NaN    4638\n",
       "0.0     751\n",
       "1.0     647\n",
       "Name: sentiment, dtype: int64"
      ]
     },
     "execution_count": 65,
     "metadata": {},
     "output_type": "execute_result"
    }
   ],
   "source": [
    "tweets_df3['sentiment'].value_counts(dropna = False)"
   ]
  },
  {
   "cell_type": "code",
   "execution_count": 66,
   "id": "e26dbf4b",
   "metadata": {},
   "outputs": [
    {
     "data": {
      "text/plain": [
       "NaN    0.76839\n",
       "0.0    0.12442\n",
       "1.0    0.10719\n",
       "Name: sentiment, dtype: float64"
      ]
     },
     "execution_count": 66,
     "metadata": {},
     "output_type": "execute_result"
    }
   ],
   "source": [
    "tweets_df3['sentiment'].value_counts(dropna = False, normalize = True)"
   ]
  },
  {
   "cell_type": "markdown",
   "id": "f2ca27ea",
   "metadata": {},
   "source": [
    "<h4 align=\"left\"> Leaving out unlabeled texts, this data is not useful for training or validating a supervised model.</h4> "
   ]
  },
  {
   "cell_type": "code",
   "execution_count": 67,
   "id": "afdf2456",
   "metadata": {},
   "outputs": [],
   "source": [
    "tweets_labeled_df3 = tweets_df3.loc[tweets_df3['sentiment'].notnull()]"
   ]
  },
  {
   "cell_type": "code",
   "execution_count": 68,
   "id": "57aebd1e",
   "metadata": {},
   "outputs": [
    {
     "data": {
      "text/plain": [
       "(1398, 2)"
      ]
     },
     "execution_count": 68,
     "metadata": {},
     "output_type": "execute_result"
    }
   ],
   "source": [
    "tweets_labeled_df3.shape"
   ]
  },
  {
   "cell_type": "code",
   "execution_count": 69,
   "id": "1b150f2d",
   "metadata": {},
   "outputs": [],
   "source": [
    "tweets_nolabeled_df3 = tweets_df3.loc[tweets_df3['sentiment'].isnull()]"
   ]
  },
  {
   "cell_type": "code",
   "execution_count": 70,
   "id": "7e5ce4bb",
   "metadata": {},
   "outputs": [
    {
     "data": {
      "text/plain": [
       "(4638, 2)"
      ]
     },
     "execution_count": 70,
     "metadata": {},
     "output_type": "execute_result"
    }
   ],
   "source": [
    "tweets_nolabeled_df3.shape"
   ]
  },
  {
   "cell_type": "markdown",
   "id": "5f008003",
   "metadata": {},
   "source": [
    "<h4 align=\"left\"> Splitting train and test datasets. </h4> "
   ]
  },
  {
   "cell_type": "code",
   "execution_count": 71,
   "id": "2dbe38d0",
   "metadata": {},
   "outputs": [],
   "source": [
    "X_train3, X_test3, y_train3, y_test3 = train_test_split(tweets_labeled_df3['full_text'], tweets_labeled_df3['sentiment'], test_size = 0.2, stratify = tweets_labeled_df3['sentiment'], random_state = 1)"
   ]
  },
  {
   "cell_type": "code",
   "execution_count": 72,
   "id": "a2625878",
   "metadata": {},
   "outputs": [
    {
     "data": {
      "text/plain": [
       "(1118,)"
      ]
     },
     "execution_count": 72,
     "metadata": {},
     "output_type": "execute_result"
    }
   ],
   "source": [
    "X_train3.shape"
   ]
  },
  {
   "cell_type": "code",
   "execution_count": 73,
   "id": "eaa1c852",
   "metadata": {},
   "outputs": [
    {
     "data": {
      "text/plain": [
       "0.0    0.537567\n",
       "1.0    0.462433\n",
       "Name: sentiment, dtype: float64"
      ]
     },
     "execution_count": 73,
     "metadata": {},
     "output_type": "execute_result"
    }
   ],
   "source": [
    "pd.Series(y_train3).value_counts(normalize = True)"
   ]
  },
  {
   "cell_type": "code",
   "execution_count": 74,
   "id": "663014df",
   "metadata": {},
   "outputs": [
    {
     "data": {
      "text/plain": [
       "(280,)"
      ]
     },
     "execution_count": 74,
     "metadata": {},
     "output_type": "execute_result"
    }
   ],
   "source": [
    "X_test3.shape"
   ]
  },
  {
   "cell_type": "code",
   "execution_count": 75,
   "id": "7b584dfd",
   "metadata": {},
   "outputs": [
    {
     "data": {
      "text/plain": [
       "0.0    0.535714\n",
       "1.0    0.464286\n",
       "Name: sentiment, dtype: float64"
      ]
     },
     "execution_count": 75,
     "metadata": {},
     "output_type": "execute_result"
    }
   ],
   "source": [
    "pd.Series(y_test3).value_counts(normalize = True)"
   ]
  },
  {
   "cell_type": "markdown",
   "id": "03b4b6d5",
   "metadata": {},
   "source": [
    "<h4 align=\"left\"> Vectorizing texts. </h4> "
   ]
  },
  {
   "cell_type": "code",
   "execution_count": 76,
   "id": "4fd25a03",
   "metadata": {},
   "outputs": [],
   "source": [
    "bow3 = CountVectorizer(tokenizer = tokenizer, stop_words = stop_words)"
   ]
  },
  {
   "cell_type": "code",
   "execution_count": 77,
   "id": "b3b4601e",
   "metadata": {},
   "outputs": [],
   "source": [
    "tfidf3 = TfidfVectorizer(tokenizer = tokenizer, stop_words = stop_words)"
   ]
  },
  {
   "cell_type": "code",
   "execution_count": 78,
   "id": "6848856b",
   "metadata": {},
   "outputs": [],
   "source": [
    "X_bow3 = bow.fit_transform(X_train3)"
   ]
  },
  {
   "cell_type": "code",
   "execution_count": 79,
   "id": "1d001b15",
   "metadata": {},
   "outputs": [],
   "source": [
    "X_tfidf3 = tfidf.fit_transform(X_train3)"
   ]
  },
  {
   "cell_type": "markdown",
   "id": "1acf5ffe",
   "metadata": {},
   "source": [
    "<h4 align=\"left\"> Training and evaluating a model using BOW. </h4> "
   ]
  },
  {
   "cell_type": "markdown",
   "id": "93ddac9d",
   "metadata": {},
   "source": [
    "<h4>Bag of Words</h4>\n",
    "                <img src=\"./imgs/bow.png\" width=\"500\" height=\"40\" align=\"left\" />"
   ]
  },
  {
   "cell_type": "code",
   "execution_count": 80,
   "id": "c02dccdf",
   "metadata": {},
   "outputs": [],
   "source": [
    "logistic_model = LogisticRegression(random_state = 2)"
   ]
  },
  {
   "cell_type": "code",
   "execution_count": 81,
   "id": "c0130c47",
   "metadata": {},
   "outputs": [
    {
     "data": {
      "text/plain": [
       "LogisticRegression(random_state=2)"
      ]
     },
     "execution_count": 81,
     "metadata": {},
     "output_type": "execute_result"
    }
   ],
   "source": [
    "logistic_model.fit(X_bow3, y_train3)"
   ]
  },
  {
   "cell_type": "code",
   "execution_count": 82,
   "id": "e14e4843",
   "metadata": {},
   "outputs": [],
   "source": [
    "y_train_bow_predict3 = logistic_model.predict(X_bow3)\n",
    "y_test_bow_predict3 = logistic_model.predict(bow.transform(X_test3))"
   ]
  },
  {
   "cell_type": "code",
   "execution_count": 83,
   "id": "693055ce",
   "metadata": {},
   "outputs": [
    {
     "data": {
      "text/plain": [
       "<sklearn.metrics._plot.confusion_matrix.ConfusionMatrixDisplay at 0x2115599afd0>"
      ]
     },
     "execution_count": 83,
     "metadata": {},
     "output_type": "execute_result"
    },
    {
     "data": {
      "image/png": "[encoded data removed]",
      "text/plain": [
       "<Figure size 432x288 with 2 Axes>"
      ]
     },
     "metadata": {
      "needs_background": "light"
     },
     "output_type": "display_data"
    }
   ],
   "source": [
    "ConfusionMatrixDisplay.from_predictions(y_train3, y_train_bow_predict3)"
   ]
  },
  {
   "cell_type": "code",
   "execution_count": 84,
   "id": "7e6c124c",
   "metadata": {},
   "outputs": [
    {
     "data": {
      "text/plain": [
       "<sklearn.metrics._plot.confusion_matrix.ConfusionMatrixDisplay at 0x21156d6cbb0>"
      ]
     },
     "execution_count": 84,
     "metadata": {},
     "output_type": "execute_result"
    },
    {
     "data": {
      "image/png": "[encoded data removed]",
      "text/plain": [
       "<Figure size 432x288 with 2 Axes>"
      ]
     },
     "metadata": {
      "needs_background": "light"
     },
     "output_type": "display_data"
    }
   ],
   "source": [
    "ConfusionMatrixDisplay.from_predictions(y_test3, y_test_bow_predict3)"
   ]
  },
  {
   "cell_type": "code",
   "execution_count": 85,
   "id": "ac4a67ff",
   "metadata": {},
   "outputs": [
    {
     "name": "stdout",
     "output_type": "stream",
     "text": [
      "Precision: 0.6754385964912281\n",
      "Recall: 0.5923076923076923\n",
      "F1: 0.6311475409836065\n"
     ]
    }
   ],
   "source": [
    "print('Precision:', precision_score(y_test3, y_test_bow_predict3))\n",
    "print('Recall:', recall_score(y_test3, y_test_bow_predict3))\n",
    "print('F1:', f1_score(y_test3, y_test_bow_predict3))"
   ]
  },
  {
   "cell_type": "markdown",
   "id": "cdcdc3ce",
   "metadata": {},
   "source": [
    "<h4 align=\"left\"> Training and evaluating a model using TF-IDF. </h4> "
   ]
  },
  {
   "cell_type": "markdown",
   "id": "506a8f33",
   "metadata": {},
   "source": [
    "<h4>TF-IDF</h4>\n",
    "                <img src=\"./imgs/tf-idf.png\" width=\"400\" height=\"40\" align=\"left\" />"
   ]
  },
  {
   "cell_type": "code",
   "execution_count": 86,
   "id": "086c5fcf",
   "metadata": {},
   "outputs": [],
   "source": [
    "logistic_model = LogisticRegression(random_state = 2)"
   ]
  },
  {
   "cell_type": "code",
   "execution_count": 87,
   "id": "9581a539",
   "metadata": {},
   "outputs": [
    {
     "data": {
      "text/plain": [
       "LogisticRegression(random_state=2)"
      ]
     },
     "execution_count": 87,
     "metadata": {},
     "output_type": "execute_result"
    }
   ],
   "source": [
    "logistic_model.fit(X_tfidf3, y_train3)"
   ]
  },
  {
   "cell_type": "code",
   "execution_count": 88,
   "id": "4d457b64",
   "metadata": {},
   "outputs": [],
   "source": [
    "y_train_tfidf_predict3 = logistic_model.predict(X_tfidf3)\n",
    "y_test_tfidf_predict3 = logistic_model.predict(bow.transform(X_test3))"
   ]
  },
  {
   "cell_type": "code",
   "execution_count": 89,
   "id": "590d1640",
   "metadata": {},
   "outputs": [
    {
     "data": {
      "text/plain": [
       "<sklearn.metrics._plot.confusion_matrix.ConfusionMatrixDisplay at 0x211570d7970>"
      ]
     },
     "execution_count": 89,
     "metadata": {},
     "output_type": "execute_result"
    },
    {
     "data": {
      "image/png": "[encoded data removed]",
      "text/plain": [
       "<Figure size 432x288 with 2 Axes>"
      ]
     },
     "metadata": {
      "needs_background": "light"
     },
     "output_type": "display_data"
    }
   ],
   "source": [
    "ConfusionMatrixDisplay.from_predictions(y_train3, y_train_tfidf_predict3)"
   ]
  },
  {
   "cell_type": "code",
   "execution_count": 90,
   "id": "8955fd6b",
   "metadata": {},
   "outputs": [
    {
     "data": {
      "text/plain": [
       "<sklearn.metrics._plot.confusion_matrix.ConfusionMatrixDisplay at 0x211559af7c0>"
      ]
     },
     "execution_count": 90,
     "metadata": {},
     "output_type": "execute_result"
    },
    {
     "data": {
      "image/png": "[encoded data removed]",
      "text/plain": [
       "<Figure size 432x288 with 2 Axes>"
      ]
     },
     "metadata": {
      "needs_background": "light"
     },
     "output_type": "display_data"
    }
   ],
   "source": [
    "ConfusionMatrixDisplay.from_predictions(y_test3, y_test_tfidf_predict3)"
   ]
  },
  {
   "cell_type": "code",
   "execution_count": 91,
   "id": "f8b31d86",
   "metadata": {},
   "outputs": [
    {
     "name": "stdout",
     "output_type": "stream",
     "text": [
      "Precision: 0.8055555555555556\n",
      "Recall: 0.2230769230769231\n",
      "F1: 0.3493975903614458\n"
     ]
    }
   ],
   "source": [
    "print('Precision:', precision_score(y_test3, y_test_tfidf_predict3))\n",
    "print('Recall:', recall_score(y_test3, y_test_tfidf_predict3))\n",
    "print('F1:', f1_score(y_test3, y_test_tfidf_predict3))"
   ]
  }
 ],
 "metadata": {
  "kernelspec": {
   "display_name": "Python 3 (ipykernel)",
   "language": "python",
   "name": "python3"
  },
  "language_info": {
   "codemirror_mode": {
    "name": "ipython",
    "version": 3
   },
   "file_extension": ".py",
   "mimetype": "text/x-python",
   "name": "python",
   "nbconvert_exporter": "python",
   "pygments_lexer": "ipython3",
   "version": "3.8.5"
  }
 },
 "nbformat": 4,
 "nbformat_minor": 5
}
